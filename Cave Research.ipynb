{
 "metadata": {
  "name": ""
 },
 "nbformat": 3,
 "nbformat_minor": 0,
 "worksheets": [
  {
   "cells": [
    {
     "cell_type": "code",
     "collapsed": false,
     "input": [
      "import numpy as np\n",
      "import scipy as sp\n",
      "import scipy.sparse as sps"
     ],
     "language": "python",
     "metadata": {},
     "outputs": [],
     "prompt_number": 16
    },
    {
     "cell_type": "code",
     "collapsed": false,
     "input": [
      "bigValue = 1000000000\n",
      "boringMatrix = sps.dia_matrix((bigValue, bigValue))"
     ],
     "language": "python",
     "metadata": {},
     "outputs": [],
     "prompt_number": 17
    },
    {
     "cell_type": "code",
     "collapsed": false,
     "input": [
      "boringMatrix"
     ],
     "language": "python",
     "metadata": {},
     "outputs": [
      {
       "metadata": {},
       "output_type": "pyout",
       "prompt_number": 18,
       "text": [
        "<1000000000x1000000000 sparse matrix of type '<type 'numpy.float64'>'\n",
        "\twith 0 stored elements (0 diagonals) in DIAgonal format>"
       ]
      }
     ],
     "prompt_number": 18
    },
    {
     "cell_type": "code",
     "collapsed": false,
     "input": [
      "data = sp.array([[1,2,3,4]]).repeat(3,axis=0) \n",
      "offsets = np.array([0, -1, 2]) \n",
      "coolMatrix = sps.dia_matrix( (data,offsets), shape=(4,4))"
     ],
     "language": "python",
     "metadata": {},
     "outputs": [],
     "prompt_number": 22
    },
    {
     "cell_type": "code",
     "collapsed": false,
     "input": [
      "coolMatrix.todense()"
     ],
     "language": "python",
     "metadata": {},
     "outputs": [
      {
       "metadata": {},
       "output_type": "pyout",
       "prompt_number": 24,
       "text": [
        "matrix([[1, 0, 3, 0],\n",
        "        [1, 2, 0, 4],\n",
        "        [0, 2, 3, 0],\n",
        "        [0, 0, 3, 4]])"
       ]
      }
     ],
     "prompt_number": 24
    },
    {
     "cell_type": "code",
     "collapsed": false,
     "input": [
      "data = sp.array([[1,1,1,1], [2,2,2,2], [3,3,3,3]])\n",
      "offsets = np.array([0, -1, 2]) # offset of each diagonal.\n",
      "coolerMatrix = sps.dia_matrix( (data,offsets), shape=(4,4))"
     ],
     "language": "python",
     "metadata": {},
     "outputs": [],
     "prompt_number": 25
    },
    {
     "cell_type": "code",
     "collapsed": false,
     "input": [
      "coolerMatrix.todense()"
     ],
     "language": "python",
     "metadata": {},
     "outputs": [
      {
       "metadata": {},
       "output_type": "pyout",
       "prompt_number": 26,
       "text": [
        "matrix([[1, 0, 3, 0],\n",
        "        [2, 1, 0, 3],\n",
        "        [0, 2, 1, 0],\n",
        "        [0, 0, 2, 1]])"
       ]
      }
     ],
     "prompt_number": 26
    },
    {
     "cell_type": "code",
     "collapsed": false,
     "input": [
      "bigData = sp.array([range(bigValue)]).repeat(3,axis=0)\n",
      "offsets = np.array([0, -1, 2]) \n",
      "bigMatrix = sps.dia_matrix( (data,offsets), shape=(bigValue, bigValue))\n"
     ],
     "language": "python",
     "metadata": {},
     "outputs": [],
     "prompt_number": "*"
    },
    {
     "cell_type": "code",
     "collapsed": false,
     "input": [],
     "language": "python",
     "metadata": {},
     "outputs": []
    }
   ],
   "metadata": {}
  }
 ]
}